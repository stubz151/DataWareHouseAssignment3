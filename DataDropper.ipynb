{
 "cells": [
  {
   "cell_type": "code",
   "execution_count": 23,
   "metadata": {},
   "outputs": [],
   "source": [
    "import pandas as pd\n",
    "import numpy as np\n",
    "import matplotlib.pyplot as plt"
   ]
  },
  {
   "cell_type": "code",
   "execution_count": 2,
   "metadata": {},
   "outputs": [
    {
     "data": {
      "text/html": [
       "<div>\n",
       "<style scoped>\n",
       "    .dataframe tbody tr th:only-of-type {\n",
       "        vertical-align: middle;\n",
       "    }\n",
       "\n",
       "    .dataframe tbody tr th {\n",
       "        vertical-align: top;\n",
       "    }\n",
       "\n",
       "    .dataframe thead th {\n",
       "        text-align: right;\n",
       "    }\n",
       "</style>\n",
       "<table border=\"1\" class=\"dataframe\">\n",
       "  <thead>\n",
       "    <tr style=\"text-align: right;\">\n",
       "      <th></th>\n",
       "      <th>AircraftNo</th>\n",
       "      <th>ModelCode</th>\n",
       "      <th>CharterID</th>\n",
       "      <th>CharterDate</th>\n",
       "      <th>Pilot</th>\n",
       "      <th>Copilot</th>\n",
       "      <th>Destination</th>\n",
       "      <th>Distance</th>\n",
       "      <th>Hours</th>\n",
       "      <th>Delay</th>\n",
       "      <th>Gallons</th>\n",
       "      <th>Quarts</th>\n",
       "      <th>CustCode</th>\n",
       "      <th>Manufacturer</th>\n",
       "    </tr>\n",
       "  </thead>\n",
       "  <tbody>\n",
       "    <tr>\n",
       "      <th>0</th>\n",
       "      <td>2778V</td>\n",
       "      <td>PA31-350</td>\n",
       "      <td>10231</td>\n",
       "      <td>2018-04-04</td>\n",
       "      <td>109</td>\n",
       "      <td>NaN</td>\n",
       "      <td>ATL</td>\n",
       "      <td>1011</td>\n",
       "      <td>5.5</td>\n",
       "      <td>3.6</td>\n",
       "      <td>243.6</td>\n",
       "      <td>1</td>\n",
       "      <td>10011</td>\n",
       "      <td>Piper</td>\n",
       "    </tr>\n",
       "    <tr>\n",
       "      <th>1</th>\n",
       "      <td>2289L</td>\n",
       "      <td>C-90A</td>\n",
       "      <td>9685</td>\n",
       "      <td>2016-01-26</td>\n",
       "      <td>109</td>\n",
       "      <td>NaN</td>\n",
       "      <td>MOB</td>\n",
       "      <td>895</td>\n",
       "      <td>4.6</td>\n",
       "      <td>0.0</td>\n",
       "      <td>302.9</td>\n",
       "      <td>0</td>\n",
       "      <td>10011</td>\n",
       "      <td>Beechcraft</td>\n",
       "    </tr>\n",
       "    <tr>\n",
       "      <th>2</th>\n",
       "      <td>4278Y</td>\n",
       "      <td>PA31-350</td>\n",
       "      <td>9582</td>\n",
       "      <td>2015-08-21</td>\n",
       "      <td>109</td>\n",
       "      <td>NaN</td>\n",
       "      <td>MOB</td>\n",
       "      <td>842</td>\n",
       "      <td>4.4</td>\n",
       "      <td>6.1</td>\n",
       "      <td>187.9</td>\n",
       "      <td>1</td>\n",
       "      <td>10010</td>\n",
       "      <td>Piper</td>\n",
       "    </tr>\n",
       "    <tr>\n",
       "      <th>3</th>\n",
       "      <td>1484P</td>\n",
       "      <td>PA23-250</td>\n",
       "      <td>9856</td>\n",
       "      <td>2016-09-16</td>\n",
       "      <td>101</td>\n",
       "      <td>NaN</td>\n",
       "      <td>BNA</td>\n",
       "      <td>352</td>\n",
       "      <td>1.9</td>\n",
       "      <td>5.3</td>\n",
       "      <td>NaN</td>\n",
       "      <td>1</td>\n",
       "      <td>10012</td>\n",
       "      <td>Piper</td>\n",
       "    </tr>\n",
       "    <tr>\n",
       "      <th>4</th>\n",
       "      <td>2778V</td>\n",
       "      <td>PA31-350</td>\n",
       "      <td>9476</td>\n",
       "      <td>2015-03-18</td>\n",
       "      <td>106</td>\n",
       "      <td>101.0</td>\n",
       "      <td>TYS</td>\n",
       "      <td>668</td>\n",
       "      <td>4.2</td>\n",
       "      <td>3.8</td>\n",
       "      <td>153</td>\n",
       "      <td>0</td>\n",
       "      <td>10019</td>\n",
       "      <td>Piper</td>\n",
       "    </tr>\n",
       "  </tbody>\n",
       "</table>\n",
       "</div>"
      ],
      "text/plain": [
       "  AircraftNo ModelCode  CharterID CharterDate  Pilot  Copilot Destination  \\\n",
       "0      2778V  PA31-350      10231  2018-04-04    109      NaN         ATL   \n",
       "1      2289L     C-90A       9685  2016-01-26    109      NaN         MOB   \n",
       "2      4278Y  PA31-350       9582  2015-08-21    109      NaN         MOB   \n",
       "3      1484P  PA23-250       9856  2016-09-16    101      NaN         BNA   \n",
       "4      2778V  PA31-350       9476  2015-03-18    106    101.0         TYS   \n",
       "\n",
       "   Distance  Hours  Delay Gallons  Quarts  CustCode Manufacturer  \n",
       "0      1011    5.5    3.6   243.6       1     10011        Piper  \n",
       "1       895    4.6    0.0   302.9       0     10011   Beechcraft  \n",
       "2       842    4.4    6.1   187.9       1     10010        Piper  \n",
       "3       352    1.9    5.3     NaN       1     10012        Piper  \n",
       "4       668    4.2    3.8     153       0     10019        Piper  "
      ]
     },
     "execution_count": 2,
     "metadata": {},
     "output_type": "execute_result"
    }
   ],
   "source": [
    "df = pd.read_excel(\"Chp3.xlsx\", sheet_name=\"Sheet1\")\n",
    "df.head(5)\n",
    "#loads data into pandas data frame"
   ]
  },
  {
   "cell_type": "code",
   "execution_count": 3,
   "metadata": {},
   "outputs": [
    {
     "name": "stdout",
     "output_type": "stream",
     "text": [
      "982\n"
     ]
    }
   ],
   "source": [
    "print (len(df))\n",
    "#displays first x rows"
   ]
  },
  {
   "cell_type": "code",
   "execution_count": 4,
   "metadata": {},
   "outputs": [],
   "source": [
    "df['Gallons'] = pd.to_numeric(df['Gallons'], errors='coerce')\n",
    "#converts gallons to floats, any errors it sets to NaNs"
   ]
  },
  {
   "cell_type": "code",
   "execution_count": 5,
   "metadata": {},
   "outputs": [
    {
     "name": "stdout",
     "output_type": "stream",
     "text": [
      "981\n"
     ]
    }
   ],
   "source": [
    "df.drop(df[(df[\"Gallons\"] < 0.00)].index , inplace = True)\n",
    "#Drops from gallons any thing too big or too small\n",
    "print (len(df))"
   ]
  },
  {
   "cell_type": "code",
   "execution_count": 6,
   "metadata": {},
   "outputs": [
    {
     "name": "stdout",
     "output_type": "stream",
     "text": [
      "979\n"
     ]
    }
   ],
   "source": [
    "df.drop(df[(df[\"Gallons\"]>9999)].index , inplace = True)\n",
    "print (len(df))"
   ]
  },
  {
   "cell_type": "code",
   "execution_count": 7,
   "metadata": {},
   "outputs": [
    {
     "name": "stdout",
     "output_type": "stream",
     "text": [
      "741\n"
     ]
    }
   ],
   "source": [
    "df.drop_duplicates(keep=False, subset = ['CharterID'], inplace = True) \n",
    "#drops duplicates\n",
    "print (len(df))\n",
    "#drops any gallons less than 0 or above 99999, inplace makes the changes to df\n",
    "\n",
    "#drops all the rows with NaN values"
   ]
  },
  {
   "cell_type": "code",
   "execution_count": 8,
   "metadata": {},
   "outputs": [
    {
     "name": "stdout",
     "output_type": "stream",
     "text": [
      "731\n"
     ]
    },
    {
     "ename": "PermissionError",
     "evalue": "[Errno 13] Permission denied: 'output.xlsx'",
     "output_type": "error",
     "traceback": [
      "\u001b[1;31m---------------------------------------------------------------------------\u001b[0m",
      "\u001b[1;31mPermissionError\u001b[0m                           Traceback (most recent call last)",
      "\u001b[1;32m<ipython-input-8-b39ee80b459b>\u001b[0m in \u001b[0;36m<module>\u001b[1;34m\u001b[0m\n\u001b[0;32m      3\u001b[0m \u001b[0mwriter\u001b[0m \u001b[1;33m=\u001b[0m \u001b[0mpd\u001b[0m\u001b[1;33m.\u001b[0m\u001b[0mExcelWriter\u001b[0m\u001b[1;33m(\u001b[0m\u001b[1;34m'output.xlsx'\u001b[0m\u001b[1;33m,\u001b[0m \u001b[0mdate_format\u001b[0m \u001b[1;33m=\u001b[0m \u001b[1;34m'dd-mmm-yy'\u001b[0m\u001b[1;33m,\u001b[0m \u001b[0mdatetime_format\u001b[0m\u001b[1;33m=\u001b[0m\u001b[1;34m'dd-mmm-yy'\u001b[0m\u001b[1;33m)\u001b[0m\u001b[1;33m\u001b[0m\u001b[1;33m\u001b[0m\u001b[0m\n\u001b[0;32m      4\u001b[0m \u001b[0mnd\u001b[0m\u001b[1;33m.\u001b[0m\u001b[0mto_excel\u001b[0m\u001b[1;33m(\u001b[0m\u001b[0mwriter\u001b[0m\u001b[1;33m,\u001b[0m \u001b[0msheet_name\u001b[0m\u001b[1;33m=\u001b[0m\u001b[1;34m'Sheet1'\u001b[0m\u001b[1;33m)\u001b[0m\u001b[1;33m\u001b[0m\u001b[1;33m\u001b[0m\u001b[0m\n\u001b[1;32m----> 5\u001b[1;33m \u001b[0mwriter\u001b[0m\u001b[1;33m.\u001b[0m\u001b[0msave\u001b[0m\u001b[1;33m(\u001b[0m\u001b[1;33m)\u001b[0m\u001b[1;33m\u001b[0m\u001b[1;33m\u001b[0m\u001b[0m\n\u001b[0m\u001b[0;32m      6\u001b[0m \u001b[1;31m#outputs to excel\u001b[0m\u001b[1;33m\u001b[0m\u001b[1;33m\u001b[0m\u001b[1;33m\u001b[0m\u001b[0m\n",
      "\u001b[1;32mD:\\anaconda\\lib\\site-packages\\pandas\\io\\excel.py\u001b[0m in \u001b[0;36msave\u001b[1;34m(self)\u001b[0m\n\u001b[0;32m   1950\u001b[0m         \"\"\"\n\u001b[0;32m   1951\u001b[0m \u001b[1;33m\u001b[0m\u001b[0m\n\u001b[1;32m-> 1952\u001b[1;33m         \u001b[1;32mreturn\u001b[0m \u001b[0mself\u001b[0m\u001b[1;33m.\u001b[0m\u001b[0mbook\u001b[0m\u001b[1;33m.\u001b[0m\u001b[0mclose\u001b[0m\u001b[1;33m(\u001b[0m\u001b[1;33m)\u001b[0m\u001b[1;33m\u001b[0m\u001b[1;33m\u001b[0m\u001b[0m\n\u001b[0m\u001b[0;32m   1953\u001b[0m \u001b[1;33m\u001b[0m\u001b[0m\n\u001b[0;32m   1954\u001b[0m     def write_cells(self, cells, sheet_name=None, startrow=0, startcol=0,\n",
      "\u001b[1;32mD:\\anaconda\\lib\\site-packages\\xlsxwriter\\workbook.py\u001b[0m in \u001b[0;36mclose\u001b[1;34m(self)\u001b[0m\n\u001b[0;32m    302\u001b[0m         \u001b[1;32mif\u001b[0m \u001b[1;32mnot\u001b[0m \u001b[0mself\u001b[0m\u001b[1;33m.\u001b[0m\u001b[0mfileclosed\u001b[0m\u001b[1;33m:\u001b[0m\u001b[1;33m\u001b[0m\u001b[1;33m\u001b[0m\u001b[0m\n\u001b[0;32m    303\u001b[0m             \u001b[0mself\u001b[0m\u001b[1;33m.\u001b[0m\u001b[0mfileclosed\u001b[0m \u001b[1;33m=\u001b[0m \u001b[1;36m1\u001b[0m\u001b[1;33m\u001b[0m\u001b[1;33m\u001b[0m\u001b[0m\n\u001b[1;32m--> 304\u001b[1;33m             \u001b[0mself\u001b[0m\u001b[1;33m.\u001b[0m\u001b[0m_store_workbook\u001b[0m\u001b[1;33m(\u001b[0m\u001b[1;33m)\u001b[0m\u001b[1;33m\u001b[0m\u001b[1;33m\u001b[0m\u001b[0m\n\u001b[0m\u001b[0;32m    305\u001b[0m \u001b[1;33m\u001b[0m\u001b[0m\n\u001b[0;32m    306\u001b[0m     \u001b[1;32mdef\u001b[0m \u001b[0mset_size\u001b[0m\u001b[1;33m(\u001b[0m\u001b[0mself\u001b[0m\u001b[1;33m,\u001b[0m \u001b[0mwidth\u001b[0m\u001b[1;33m,\u001b[0m \u001b[0mheight\u001b[0m\u001b[1;33m)\u001b[0m\u001b[1;33m:\u001b[0m\u001b[1;33m\u001b[0m\u001b[1;33m\u001b[0m\u001b[0m\n",
      "\u001b[1;32mD:\\anaconda\\lib\\site-packages\\xlsxwriter\\workbook.py\u001b[0m in \u001b[0;36m_store_workbook\u001b[1;34m(self)\u001b[0m\n\u001b[0;32m    650\u001b[0m \u001b[1;33m\u001b[0m\u001b[0m\n\u001b[0;32m    651\u001b[0m         xlsx_file = ZipFile(self.filename, \"w\", compression=ZIP_DEFLATED,\n\u001b[1;32m--> 652\u001b[1;33m                             allowZip64=self.allow_zip64)\n\u001b[0m\u001b[0;32m    653\u001b[0m \u001b[1;33m\u001b[0m\u001b[0m\n\u001b[0;32m    654\u001b[0m         \u001b[1;31m# Add XML sub-files to the Zip file with their Excel filename.\u001b[0m\u001b[1;33m\u001b[0m\u001b[1;33m\u001b[0m\u001b[1;33m\u001b[0m\u001b[0m\n",
      "\u001b[1;32mD:\\anaconda\\lib\\zipfile.py\u001b[0m in \u001b[0;36m__init__\u001b[1;34m(self, file, mode, compression, allowZip64, compresslevel)\u001b[0m\n\u001b[0;32m   1202\u001b[0m             \u001b[1;32mwhile\u001b[0m \u001b[1;32mTrue\u001b[0m\u001b[1;33m:\u001b[0m\u001b[1;33m\u001b[0m\u001b[1;33m\u001b[0m\u001b[0m\n\u001b[0;32m   1203\u001b[0m                 \u001b[1;32mtry\u001b[0m\u001b[1;33m:\u001b[0m\u001b[1;33m\u001b[0m\u001b[1;33m\u001b[0m\u001b[0m\n\u001b[1;32m-> 1204\u001b[1;33m                     \u001b[0mself\u001b[0m\u001b[1;33m.\u001b[0m\u001b[0mfp\u001b[0m \u001b[1;33m=\u001b[0m \u001b[0mio\u001b[0m\u001b[1;33m.\u001b[0m\u001b[0mopen\u001b[0m\u001b[1;33m(\u001b[0m\u001b[0mfile\u001b[0m\u001b[1;33m,\u001b[0m \u001b[0mfilemode\u001b[0m\u001b[1;33m)\u001b[0m\u001b[1;33m\u001b[0m\u001b[1;33m\u001b[0m\u001b[0m\n\u001b[0m\u001b[0;32m   1205\u001b[0m                 \u001b[1;32mexcept\u001b[0m \u001b[0mOSError\u001b[0m\u001b[1;33m:\u001b[0m\u001b[1;33m\u001b[0m\u001b[1;33m\u001b[0m\u001b[0m\n\u001b[0;32m   1206\u001b[0m                     \u001b[1;32mif\u001b[0m \u001b[0mfilemode\u001b[0m \u001b[1;32min\u001b[0m \u001b[0mmodeDict\u001b[0m\u001b[1;33m:\u001b[0m\u001b[1;33m\u001b[0m\u001b[1;33m\u001b[0m\u001b[0m\n",
      "\u001b[1;31mPermissionError\u001b[0m: [Errno 13] Permission denied: 'output.xlsx'"
     ]
    }
   ],
   "source": [
    "nd = df.dropna(subset=['Gallons'])\n",
    "print (len(nd))\n",
    "writer = pd.ExcelWriter('output.xlsx', date_format = 'dd-mmm-yy', datetime_format='dd-mmm-yy')\n",
    "nd.to_excel(writer, sheet_name='Sheet1')\n",
    "writer.save()\n",
    "#outputs to excel"
   ]
  },
  {
   "cell_type": "code",
   "execution_count": null,
   "metadata": {},
   "outputs": [],
   "source": [
    "colAircraft = [\"AircraftNo\" , nd['AircraftNo'].nunique()]\n",
    "print (\"Amount of unique aircraft numbers : \" + str(colAircraft[1]))\n",
    "colManufacturer = [\"Manufacturer\" , nd['Manufacturer'].nunique()]\n",
    "print (\"Amount of unique Manufacturers : \" + str(colManufacturer[1]))\n",
    "colModelCode = [\"ModelCode\" , nd['ModelCode'].nunique()]\n",
    "print (\"Amount of unique ModelCodes is : \" + str(colModelCode[1]))\n",
    "arr = [colAircraft, colManufacturer, colModelCode]\n",
    "sortedArr = sorted(arr,key=lambda x: x[1])\n",
    "#simply sorts the array based on the 2nddimension, ie the count of uniques"
   ]
  },
  {
   "cell_type": "code",
   "execution_count": null,
   "metadata": {},
   "outputs": [],
   "source": [
    "print (\"Concept hierarchy is as follows : \")\n",
    "print (sortedArr[0])\n",
    "print(\"------v-----\")\n",
    "print(sortedArr[1])\n",
    "print(\"------v-----\")\n",
    "print(sortedArr[2])"
   ]
  },
  {
   "cell_type": "code",
   "execution_count": null,
   "metadata": {},
   "outputs": [],
   "source": [
    "print (nd['Gallons'].max())\n",
    "print (nd['Gallons'].max()/30)      "
   ]
  },
  {
   "cell_type": "code",
   "execution_count": 41,
   "metadata": {},
   "outputs": [
    {
     "name": "stdout",
     "output_type": "stream",
     "text": [
      "0 30 60 90 120 150 180 210 240 270 300 330 360 390 420 450 480 510 540 570 600\n"
     ]
    },
    {
     "data": {
      "text/plain": [
       "<matplotlib.axes._subplots.AxesSubplot at 0x261e2af8da0>"
      ]
     },
     "execution_count": 41,
     "metadata": {},
     "output_type": "execute_result"
    },
    {
     "data": {
      "image/png": "[encoded data removed]",
      "text/plain": [
       "<Figure size 432x288 with 1 Axes>"
      ]
     },
     "metadata": {
      "needs_background": "light"
     },
     "output_type": "display_data"
    }
   ],
   "source": [
    "bin = []\n",
    "for x in range (0, int((nd['Gallons'].max())/30)+2):\n",
    "    bin.append(x*30)\n",
    "print (*bin)\n",
    "s = nd.groupby(pd.cut(nd['Gallons'], bins=bin)).size()\n",
    "s.plot.bar()\n"
   ]
  },
  {
   "cell_type": "code",
   "execution_count": null,
   "metadata": {},
   "outputs": [],
   "source": [
    "print (\"                                                             | \"+str(bin[0]) + \" ------------------> \" + str(bin[-1]) + \" |    \")\n",
    "for x in range(0, int(len(bin)-4) , 4):\n",
    "    #this loop prints out our ranges for our 2nd tier, I chose bins that contain 4 elements but you can change and adapt as you wish.\n",
    "    if (bin[x+3] <100):\n",
    "        #this check is done cause the numbers with 0's take up an additional space and ruin formatting, this check makes everything align nicely :)\n",
    "        print (\"|          (\"+str(bin[x]) +\" -> \"+ str(bin[x+4]) +\" ]           |\" , end ='')\n",
    "    else:\n",
    "         print (\"|             (\"+str(bin[x]) +\" -> \"+ str(bin[x+4]) +\" ]             |\" , end ='')\n",
    "print (\" \")\n",
    "\n",
    "for x in range (0 , int(len(bin)-1)):\n",
    "    if (x %4 ==0):\n",
    "        print (\"|\" , end ='')\n",
    "    print (\"(\" +str(bin[x]) + \" ,\" + str(bin[x+1])+ \"]\" , end ='')\n",
    "    \n",
    " #this method hear prints out the hierarchy, based on equal width partioning    "
   ]
  },
  {
   "cell_type": "code",
   "execution_count": 9,
   "metadata": {},
   "outputs": [
    {
     "data": {
      "text/html": [
       "<div>\n",
       "<style scoped>\n",
       "    .dataframe tbody tr th:only-of-type {\n",
       "        vertical-align: middle;\n",
       "    }\n",
       "\n",
       "    .dataframe tbody tr th {\n",
       "        vertical-align: top;\n",
       "    }\n",
       "\n",
       "    .dataframe thead th {\n",
       "        text-align: right;\n",
       "    }\n",
       "</style>\n",
       "<table border=\"1\" class=\"dataframe\">\n",
       "  <thead>\n",
       "    <tr style=\"text-align: right;\">\n",
       "      <th></th>\n",
       "      <th>AircraftNo</th>\n",
       "      <th>ModelCode</th>\n",
       "      <th>CharterID</th>\n",
       "      <th>CharterDate</th>\n",
       "      <th>Pilot</th>\n",
       "      <th>Copilot</th>\n",
       "      <th>Destination</th>\n",
       "      <th>Distance</th>\n",
       "      <th>Hours</th>\n",
       "      <th>Delay</th>\n",
       "      <th>Gallons</th>\n",
       "      <th>Quarts</th>\n",
       "      <th>CustCode</th>\n",
       "      <th>Manufacturer</th>\n",
       "    </tr>\n",
       "  </thead>\n",
       "  <tbody>\n",
       "    <tr>\n",
       "      <th>592</th>\n",
       "      <td>1484P</td>\n",
       "      <td>PA23-250</td>\n",
       "      <td>9679</td>\n",
       "      <td>2016-01-15</td>\n",
       "      <td>106</td>\n",
       "      <td>104.0</td>\n",
       "      <td>MQY</td>\n",
       "      <td>302</td>\n",
       "      <td>1.8</td>\n",
       "      <td>0.0</td>\n",
       "      <td>60.4</td>\n",
       "      <td>2</td>\n",
       "      <td>10019</td>\n",
       "      <td>Piper</td>\n",
       "    </tr>\n",
       "    <tr>\n",
       "      <th>287</th>\n",
       "      <td>1484P</td>\n",
       "      <td>PA23-250</td>\n",
       "      <td>10089</td>\n",
       "      <td>2015-09-10</td>\n",
       "      <td>106</td>\n",
       "      <td>104.0</td>\n",
       "      <td>MQY</td>\n",
       "      <td>302</td>\n",
       "      <td>1.8</td>\n",
       "      <td>0.0</td>\n",
       "      <td>60.4</td>\n",
       "      <td>2</td>\n",
       "      <td>10019</td>\n",
       "      <td>Piper</td>\n",
       "    </tr>\n",
       "    <tr>\n",
       "      <th>651</th>\n",
       "      <td>1484P</td>\n",
       "      <td>PA23-250</td>\n",
       "      <td>9428</td>\n",
       "      <td>2015-01-07</td>\n",
       "      <td>106</td>\n",
       "      <td>104.0</td>\n",
       "      <td>MQY</td>\n",
       "      <td>302</td>\n",
       "      <td>1.8</td>\n",
       "      <td>0.0</td>\n",
       "      <td>60.4</td>\n",
       "      <td>2</td>\n",
       "      <td>10019</td>\n",
       "      <td>Piper</td>\n",
       "    </tr>\n",
       "    <tr>\n",
       "      <th>793</th>\n",
       "      <td>1484P</td>\n",
       "      <td>PA23-250</td>\n",
       "      <td>9989</td>\n",
       "      <td>2015-04-07</td>\n",
       "      <td>106</td>\n",
       "      <td>104.0</td>\n",
       "      <td>MQY</td>\n",
       "      <td>302</td>\n",
       "      <td>1.8</td>\n",
       "      <td>0.0</td>\n",
       "      <td>60.4</td>\n",
       "      <td>2</td>\n",
       "      <td>10019</td>\n",
       "      <td>Piper</td>\n",
       "    </tr>\n",
       "    <tr>\n",
       "      <th>223</th>\n",
       "      <td>1484P</td>\n",
       "      <td>PA23-250</td>\n",
       "      <td>9524</td>\n",
       "      <td>2015-05-27</td>\n",
       "      <td>106</td>\n",
       "      <td>104.0</td>\n",
       "      <td>MQY</td>\n",
       "      <td>302</td>\n",
       "      <td>1.8</td>\n",
       "      <td>0.0</td>\n",
       "      <td>60.4</td>\n",
       "      <td>2</td>\n",
       "      <td>10019</td>\n",
       "      <td>Piper</td>\n",
       "    </tr>\n",
       "  </tbody>\n",
       "</table>\n",
       "</div>"
      ],
      "text/plain": [
       "    AircraftNo ModelCode  CharterID CharterDate  Pilot  Copilot Destination  \\\n",
       "592      1484P  PA23-250       9679  2016-01-15    106    104.0         MQY   \n",
       "287      1484P  PA23-250      10089  2015-09-10    106    104.0         MQY   \n",
       "651      1484P  PA23-250       9428  2015-01-07    106    104.0         MQY   \n",
       "793      1484P  PA23-250       9989  2015-04-07    106    104.0         MQY   \n",
       "223      1484P  PA23-250       9524  2015-05-27    106    104.0         MQY   \n",
       "\n",
       "     Distance  Hours  Delay  Gallons  Quarts  CustCode Manufacturer  \n",
       "592       302    1.8    0.0     60.4       2     10019        Piper  \n",
       "287       302    1.8    0.0     60.4       2     10019        Piper  \n",
       "651       302    1.8    0.0     60.4       2     10019        Piper  \n",
       "793       302    1.8    0.0     60.4       2     10019        Piper  \n",
       "223       302    1.8    0.0     60.4       2     10019        Piper  "
      ]
     },
     "execution_count": 9,
     "metadata": {},
     "output_type": "execute_result"
    }
   ],
   "source": [
    "sorted_Gal_DF = nd.sort_values(by=['Gallons'])\n",
    "sorted_Gal_DF.head()\n",
    "#this is simply our data frame sorted on gallon values."
   ]
  },
  {
   "cell_type": "code",
   "execution_count": 10,
   "metadata": {},
   "outputs": [
    {
     "name": "stdout",
     "output_type": "stream",
     "text": [
      "10\n"
     ]
    },
    {
     "data": {
      "text/html": [
       "<div>\n",
       "<style scoped>\n",
       "    .dataframe tbody tr th:only-of-type {\n",
       "        vertical-align: middle;\n",
       "    }\n",
       "\n",
       "    .dataframe tbody tr th {\n",
       "        vertical-align: top;\n",
       "    }\n",
       "\n",
       "    .dataframe thead th {\n",
       "        text-align: right;\n",
       "    }\n",
       "</style>\n",
       "<table border=\"1\" class=\"dataframe\">\n",
       "  <thead>\n",
       "    <tr style=\"text-align: right;\">\n",
       "      <th></th>\n",
       "      <th>AircraftNo</th>\n",
       "      <th>ModelCode</th>\n",
       "      <th>CharterID</th>\n",
       "      <th>CharterDate</th>\n",
       "      <th>Pilot</th>\n",
       "      <th>Copilot</th>\n",
       "      <th>Destination</th>\n",
       "      <th>Distance</th>\n",
       "      <th>Hours</th>\n",
       "      <th>Delay</th>\n",
       "      <th>Gallons</th>\n",
       "      <th>Quarts</th>\n",
       "      <th>CustCode</th>\n",
       "      <th>Manufacturer</th>\n",
       "    </tr>\n",
       "  </thead>\n",
       "  <tbody>\n",
       "    <tr>\n",
       "      <th>592</th>\n",
       "      <td>1484P</td>\n",
       "      <td>PA23-250</td>\n",
       "      <td>9679</td>\n",
       "      <td>2016-01-15</td>\n",
       "      <td>106</td>\n",
       "      <td>104.0</td>\n",
       "      <td>MQY</td>\n",
       "      <td>302</td>\n",
       "      <td>1.8</td>\n",
       "      <td>0.0</td>\n",
       "      <td>60.4</td>\n",
       "      <td>2</td>\n",
       "      <td>10019</td>\n",
       "      <td>Piper</td>\n",
       "    </tr>\n",
       "    <tr>\n",
       "      <th>287</th>\n",
       "      <td>1484P</td>\n",
       "      <td>PA23-250</td>\n",
       "      <td>10089</td>\n",
       "      <td>2015-09-10</td>\n",
       "      <td>106</td>\n",
       "      <td>104.0</td>\n",
       "      <td>MQY</td>\n",
       "      <td>302</td>\n",
       "      <td>1.8</td>\n",
       "      <td>0.0</td>\n",
       "      <td>60.4</td>\n",
       "      <td>2</td>\n",
       "      <td>10019</td>\n",
       "      <td>Piper</td>\n",
       "    </tr>\n",
       "    <tr>\n",
       "      <th>651</th>\n",
       "      <td>1484P</td>\n",
       "      <td>PA23-250</td>\n",
       "      <td>9428</td>\n",
       "      <td>2015-01-07</td>\n",
       "      <td>106</td>\n",
       "      <td>104.0</td>\n",
       "      <td>MQY</td>\n",
       "      <td>302</td>\n",
       "      <td>1.8</td>\n",
       "      <td>0.0</td>\n",
       "      <td>60.4</td>\n",
       "      <td>2</td>\n",
       "      <td>10019</td>\n",
       "      <td>Piper</td>\n",
       "    </tr>\n",
       "    <tr>\n",
       "      <th>793</th>\n",
       "      <td>1484P</td>\n",
       "      <td>PA23-250</td>\n",
       "      <td>9989</td>\n",
       "      <td>2015-04-07</td>\n",
       "      <td>106</td>\n",
       "      <td>104.0</td>\n",
       "      <td>MQY</td>\n",
       "      <td>302</td>\n",
       "      <td>1.8</td>\n",
       "      <td>0.0</td>\n",
       "      <td>60.4</td>\n",
       "      <td>2</td>\n",
       "      <td>10019</td>\n",
       "      <td>Piper</td>\n",
       "    </tr>\n",
       "    <tr>\n",
       "      <th>223</th>\n",
       "      <td>1484P</td>\n",
       "      <td>PA23-250</td>\n",
       "      <td>9524</td>\n",
       "      <td>2015-05-27</td>\n",
       "      <td>106</td>\n",
       "      <td>104.0</td>\n",
       "      <td>MQY</td>\n",
       "      <td>302</td>\n",
       "      <td>1.8</td>\n",
       "      <td>0.0</td>\n",
       "      <td>60.4</td>\n",
       "      <td>2</td>\n",
       "      <td>10019</td>\n",
       "      <td>Piper</td>\n",
       "    </tr>\n",
       "  </tbody>\n",
       "</table>\n",
       "</div>"
      ],
      "text/plain": [
       "    AircraftNo ModelCode  CharterID CharterDate  Pilot  Copilot Destination  \\\n",
       "592      1484P  PA23-250       9679  2016-01-15    106    104.0         MQY   \n",
       "287      1484P  PA23-250      10089  2015-09-10    106    104.0         MQY   \n",
       "651      1484P  PA23-250       9428  2015-01-07    106    104.0         MQY   \n",
       "793      1484P  PA23-250       9989  2015-04-07    106    104.0         MQY   \n",
       "223      1484P  PA23-250       9524  2015-05-27    106    104.0         MQY   \n",
       "\n",
       "     Distance  Hours  Delay  Gallons  Quarts  CustCode Manufacturer  \n",
       "592       302    1.8    0.0     60.4       2     10019        Piper  \n",
       "287       302    1.8    0.0     60.4       2     10019        Piper  \n",
       "651       302    1.8    0.0     60.4       2     10019        Piper  \n",
       "793       302    1.8    0.0     60.4       2     10019        Piper  \n",
       "223       302    1.8    0.0     60.4       2     10019        Piper  "
      ]
     },
     "execution_count": 10,
     "metadata": {},
     "output_type": "execute_result"
    }
   ],
   "source": [
    "size = 75\n",
    "number = int(len(sorted_Gal_DF)/size)\n",
    "#number is how many partitions we want\n",
    "frames = [sorted_Gal_DF.iloc[i*size:(i+1)*size].copy() for i in range(number+1)]\n",
    "print (len(frames))\n",
    "frames[0].head()\n",
    "#I think this is a very cool method, it simply takes the size of each bin and takes all the data and creates an array that holds dataFrames,\n",
    "#so each position in the frames array is a dataframe containing 75 values (besides the last frame)"
   ]
  },
  {
   "cell_type": "code",
   "execution_count": 11,
   "metadata": {},
   "outputs": [
    {
     "name": "stdout",
     "output_type": "stream",
     "text": [
      "                                      |60.4            ->        575.7|\n",
      "              |60.4 ->116.4 |                      |116.4 ->215.1 |                      |215.1 ->397.7 |        397.7 -> 575.7 | \n",
      "|60.4 -> 85.2 ||85.2 -> 104.7 ||105.5 -> 116.4 ||116.4 -> 153.0 ||153.0 -> 169.0 ||169.0 -> 215.1 ||215.1 -> 243.7 ||243.7 -> 336.4 ||336.4 -> 397.7 ||397.7 -> 575.7 |"
     ]
    }
   ],
   "source": [
    "print (\"                                      |\" + str(frames[0].iloc[0]['Gallons']) + \"            ->        \" + str(frames[-1].iloc[-1]['Gallons']) + \"|\")\n",
    "#-1 is the last ele in array , so we going from our 1st dataframe selecting the first gallon value and then going to last data frame and selecting last gallons value\n",
    "checker =1\n",
    "\n",
    "for y in range (0,len(frames),3):\n",
    "             if (y==len(frames)-1):\n",
    "                print(str(frames[y].iloc[0]['Gallons']) +\" -> \" +str(frames[y].iloc[-1]['Gallons']) + \" |\"  , end = '')\n",
    "             else:    \n",
    "                print (\"              |\"+str(frames[y].iloc[0]['Gallons'])+\" \" , end = '')\n",
    "                print (\"->\" + str(frames[y+2].iloc[-1]['Gallons'])+\" |        \" , end = '')    \n",
    "            \n",
    "print (\" \")    \n",
    "for x in range(0,len(frames)):\n",
    "    print(\"|\"+str(frames[x].iloc[0]['Gallons']) +\" -> \" +str(frames[x].iloc[-1]['Gallons']) + \" |\"  , end = '')\n",
    "    "
   ]
  },
  {
   "cell_type": "code",
   "execution_count": 12,
   "metadata": {},
   "outputs": [
    {
     "name": "stdout",
     "output_type": "stream",
     "text": [
      "9\n",
      "71.26\n",
      "100.01\n",
      "116.16\n",
      "147.71\n",
      "177.01\n",
      "225.06\n",
      "293.14\n",
      "387.97\n",
      "538.37\n"
     ]
    },
    {
     "data": {
      "text/html": [
       "<div>\n",
       "<style scoped>\n",
       "    .dataframe tbody tr th:only-of-type {\n",
       "        vertical-align: middle;\n",
       "    }\n",
       "\n",
       "    .dataframe tbody tr th {\n",
       "        vertical-align: top;\n",
       "    }\n",
       "\n",
       "    .dataframe thead th {\n",
       "        text-align: right;\n",
       "    }\n",
       "</style>\n",
       "<table border=\"1\" class=\"dataframe\">\n",
       "  <thead>\n",
       "    <tr style=\"text-align: right;\">\n",
       "      <th></th>\n",
       "      <th>AircraftNo</th>\n",
       "      <th>ModelCode</th>\n",
       "      <th>CharterID</th>\n",
       "      <th>CharterDate</th>\n",
       "      <th>Pilot</th>\n",
       "      <th>Copilot</th>\n",
       "      <th>Destination</th>\n",
       "      <th>Distance</th>\n",
       "      <th>Hours</th>\n",
       "      <th>Delay</th>\n",
       "      <th>Gallons</th>\n",
       "      <th>Quarts</th>\n",
       "      <th>CustCode</th>\n",
       "      <th>Manufacturer</th>\n",
       "    </tr>\n",
       "  </thead>\n",
       "  <tbody>\n",
       "    <tr>\n",
       "      <th>592</th>\n",
       "      <td>1484P</td>\n",
       "      <td>PA23-250</td>\n",
       "      <td>9679</td>\n",
       "      <td>2016-01-15</td>\n",
       "      <td>106</td>\n",
       "      <td>104.0</td>\n",
       "      <td>MQY</td>\n",
       "      <td>302</td>\n",
       "      <td>1.8</td>\n",
       "      <td>0.0</td>\n",
       "      <td>71.25977</td>\n",
       "      <td>2</td>\n",
       "      <td>10019</td>\n",
       "      <td>Piper</td>\n",
       "    </tr>\n",
       "    <tr>\n",
       "      <th>287</th>\n",
       "      <td>1484P</td>\n",
       "      <td>PA23-250</td>\n",
       "      <td>10089</td>\n",
       "      <td>2015-09-10</td>\n",
       "      <td>106</td>\n",
       "      <td>104.0</td>\n",
       "      <td>MQY</td>\n",
       "      <td>302</td>\n",
       "      <td>1.8</td>\n",
       "      <td>0.0</td>\n",
       "      <td>71.25977</td>\n",
       "      <td>2</td>\n",
       "      <td>10019</td>\n",
       "      <td>Piper</td>\n",
       "    </tr>\n",
       "    <tr>\n",
       "      <th>651</th>\n",
       "      <td>1484P</td>\n",
       "      <td>PA23-250</td>\n",
       "      <td>9428</td>\n",
       "      <td>2015-01-07</td>\n",
       "      <td>106</td>\n",
       "      <td>104.0</td>\n",
       "      <td>MQY</td>\n",
       "      <td>302</td>\n",
       "      <td>1.8</td>\n",
       "      <td>0.0</td>\n",
       "      <td>71.25977</td>\n",
       "      <td>2</td>\n",
       "      <td>10019</td>\n",
       "      <td>Piper</td>\n",
       "    </tr>\n",
       "    <tr>\n",
       "      <th>793</th>\n",
       "      <td>1484P</td>\n",
       "      <td>PA23-250</td>\n",
       "      <td>9989</td>\n",
       "      <td>2015-04-07</td>\n",
       "      <td>106</td>\n",
       "      <td>104.0</td>\n",
       "      <td>MQY</td>\n",
       "      <td>302</td>\n",
       "      <td>1.8</td>\n",
       "      <td>0.0</td>\n",
       "      <td>71.25977</td>\n",
       "      <td>2</td>\n",
       "      <td>10019</td>\n",
       "      <td>Piper</td>\n",
       "    </tr>\n",
       "    <tr>\n",
       "      <th>223</th>\n",
       "      <td>1484P</td>\n",
       "      <td>PA23-250</td>\n",
       "      <td>9524</td>\n",
       "      <td>2015-05-27</td>\n",
       "      <td>106</td>\n",
       "      <td>104.0</td>\n",
       "      <td>MQY</td>\n",
       "      <td>302</td>\n",
       "      <td>1.8</td>\n",
       "      <td>0.0</td>\n",
       "      <td>71.25977</td>\n",
       "      <td>2</td>\n",
       "      <td>10019</td>\n",
       "      <td>Piper</td>\n",
       "    </tr>\n",
       "  </tbody>\n",
       "</table>\n",
       "</div>"
      ],
      "text/plain": [
       "    AircraftNo ModelCode  CharterID CharterDate  Pilot  Copilot Destination  \\\n",
       "592      1484P  PA23-250       9679  2016-01-15    106    104.0         MQY   \n",
       "287      1484P  PA23-250      10089  2015-09-10    106    104.0         MQY   \n",
       "651      1484P  PA23-250       9428  2015-01-07    106    104.0         MQY   \n",
       "793      1484P  PA23-250       9989  2015-04-07    106    104.0         MQY   \n",
       "223      1484P  PA23-250       9524  2015-05-27    106    104.0         MQY   \n",
       "\n",
       "     Distance  Hours  Delay   Gallons  Quarts  CustCode Manufacturer  \n",
       "592       302    1.8    0.0  71.25977       2     10019        Piper  \n",
       "287       302    1.8    0.0  71.25977       2     10019        Piper  \n",
       "651       302    1.8    0.0  71.25977       2     10019        Piper  \n",
       "793       302    1.8    0.0  71.25977       2     10019        Piper  \n",
       "223       302    1.8    0.0  71.25977       2     10019        Piper  "
      ]
     },
     "execution_count": 12,
     "metadata": {},
     "output_type": "execute_result"
    }
   ],
   "source": [
    "size = 87\n",
    "number = int(len(sorted_Gal_DF)/size)\n",
    "#number is how many partitions we want\n",
    "frames_Smoothed = [sorted_Gal_DF.iloc[i*size:(i+1)*size].copy() for i in range(number+1)]\n",
    "print (len(frames_Smoothed))\n",
    "means = []\n",
    "for x in range (len(frames_Smoothed)):\n",
    "    mean = frames_Smoothed[x][\"Gallons\"].mean()\n",
    "    frames_Smoothed[x][\"Gallons\"] = mean\n",
    "    print(\"%.2f\" % round(mean,2))\n",
    "frames_Smoothed[0].head()"
   ]
  },
  {
   "cell_type": "code",
   "execution_count": 13,
   "metadata": {},
   "outputs": [
    {
     "data": {
      "text/html": [
       "<div>\n",
       "<style scoped>\n",
       "    .dataframe tbody tr th:only-of-type {\n",
       "        vertical-align: middle;\n",
       "    }\n",
       "\n",
       "    .dataframe tbody tr th {\n",
       "        vertical-align: top;\n",
       "    }\n",
       "\n",
       "    .dataframe thead th {\n",
       "        text-align: right;\n",
       "    }\n",
       "</style>\n",
       "<table border=\"1\" class=\"dataframe\">\n",
       "  <thead>\n",
       "    <tr style=\"text-align: right;\">\n",
       "      <th></th>\n",
       "      <th>AircraftNo</th>\n",
       "      <th>ModelCode</th>\n",
       "      <th>CharterID</th>\n",
       "      <th>CharterDate</th>\n",
       "      <th>Pilot</th>\n",
       "      <th>Copilot</th>\n",
       "      <th>Destination</th>\n",
       "      <th>Distance</th>\n",
       "      <th>Hours</th>\n",
       "      <th>Delay</th>\n",
       "      <th>Gallons</th>\n",
       "      <th>Quarts</th>\n",
       "      <th>CustCode</th>\n",
       "      <th>Manufacturer</th>\n",
       "    </tr>\n",
       "  </thead>\n",
       "  <tbody>\n",
       "    <tr>\n",
       "      <th>592</th>\n",
       "      <td>1484P</td>\n",
       "      <td>PA23-250</td>\n",
       "      <td>9679</td>\n",
       "      <td>2016-01-15</td>\n",
       "      <td>106</td>\n",
       "      <td>104.0</td>\n",
       "      <td>MQY</td>\n",
       "      <td>302</td>\n",
       "      <td>1.8</td>\n",
       "      <td>0.0</td>\n",
       "      <td>71.25977</td>\n",
       "      <td>2</td>\n",
       "      <td>10019</td>\n",
       "      <td>Piper</td>\n",
       "    </tr>\n",
       "    <tr>\n",
       "      <th>287</th>\n",
       "      <td>1484P</td>\n",
       "      <td>PA23-250</td>\n",
       "      <td>10089</td>\n",
       "      <td>2015-09-10</td>\n",
       "      <td>106</td>\n",
       "      <td>104.0</td>\n",
       "      <td>MQY</td>\n",
       "      <td>302</td>\n",
       "      <td>1.8</td>\n",
       "      <td>0.0</td>\n",
       "      <td>71.25977</td>\n",
       "      <td>2</td>\n",
       "      <td>10019</td>\n",
       "      <td>Piper</td>\n",
       "    </tr>\n",
       "    <tr>\n",
       "      <th>651</th>\n",
       "      <td>1484P</td>\n",
       "      <td>PA23-250</td>\n",
       "      <td>9428</td>\n",
       "      <td>2015-01-07</td>\n",
       "      <td>106</td>\n",
       "      <td>104.0</td>\n",
       "      <td>MQY</td>\n",
       "      <td>302</td>\n",
       "      <td>1.8</td>\n",
       "      <td>0.0</td>\n",
       "      <td>71.25977</td>\n",
       "      <td>2</td>\n",
       "      <td>10019</td>\n",
       "      <td>Piper</td>\n",
       "    </tr>\n",
       "    <tr>\n",
       "      <th>793</th>\n",
       "      <td>1484P</td>\n",
       "      <td>PA23-250</td>\n",
       "      <td>9989</td>\n",
       "      <td>2015-04-07</td>\n",
       "      <td>106</td>\n",
       "      <td>104.0</td>\n",
       "      <td>MQY</td>\n",
       "      <td>302</td>\n",
       "      <td>1.8</td>\n",
       "      <td>0.0</td>\n",
       "      <td>71.25977</td>\n",
       "      <td>2</td>\n",
       "      <td>10019</td>\n",
       "      <td>Piper</td>\n",
       "    </tr>\n",
       "    <tr>\n",
       "      <th>223</th>\n",
       "      <td>1484P</td>\n",
       "      <td>PA23-250</td>\n",
       "      <td>9524</td>\n",
       "      <td>2015-05-27</td>\n",
       "      <td>106</td>\n",
       "      <td>104.0</td>\n",
       "      <td>MQY</td>\n",
       "      <td>302</td>\n",
       "      <td>1.8</td>\n",
       "      <td>0.0</td>\n",
       "      <td>71.25977</td>\n",
       "      <td>2</td>\n",
       "      <td>10019</td>\n",
       "      <td>Piper</td>\n",
       "    </tr>\n",
       "  </tbody>\n",
       "</table>\n",
       "</div>"
      ],
      "text/plain": [
       "    AircraftNo ModelCode  CharterID CharterDate  Pilot  Copilot Destination  \\\n",
       "592      1484P  PA23-250       9679  2016-01-15    106    104.0         MQY   \n",
       "287      1484P  PA23-250      10089  2015-09-10    106    104.0         MQY   \n",
       "651      1484P  PA23-250       9428  2015-01-07    106    104.0         MQY   \n",
       "793      1484P  PA23-250       9989  2015-04-07    106    104.0         MQY   \n",
       "223      1484P  PA23-250       9524  2015-05-27    106    104.0         MQY   \n",
       "\n",
       "     Distance  Hours  Delay   Gallons  Quarts  CustCode Manufacturer  \n",
       "592       302    1.8    0.0  71.25977       2     10019        Piper  \n",
       "287       302    1.8    0.0  71.25977       2     10019        Piper  \n",
       "651       302    1.8    0.0  71.25977       2     10019        Piper  \n",
       "793       302    1.8    0.0  71.25977       2     10019        Piper  \n",
       "223       302    1.8    0.0  71.25977       2     10019        Piper  "
      ]
     },
     "execution_count": 13,
     "metadata": {},
     "output_type": "execute_result"
    }
   ],
   "source": [
    "appended_data = pd.concat(frames_Smoothed)\n",
    "appended_data.head()"
   ]
  },
  {
   "cell_type": "code",
   "execution_count": 14,
   "metadata": {},
   "outputs": [
    {
     "ename": "PermissionError",
     "evalue": "[Errno 13] Permission denied: 'SmoothedOut.xlsx'",
     "output_type": "error",
     "traceback": [
      "\u001b[1;31m---------------------------------------------------------------------------\u001b[0m",
      "\u001b[1;31mPermissionError\u001b[0m                           Traceback (most recent call last)",
      "\u001b[1;32m<ipython-input-14-3beb9cb27119>\u001b[0m in \u001b[0;36m<module>\u001b[1;34m\u001b[0m\n\u001b[0;32m      1\u001b[0m \u001b[0mwriter2\u001b[0m \u001b[1;33m=\u001b[0m \u001b[0mpd\u001b[0m\u001b[1;33m.\u001b[0m\u001b[0mExcelWriter\u001b[0m\u001b[1;33m(\u001b[0m\u001b[1;34m'SmoothedOut.xlsx'\u001b[0m\u001b[1;33m,\u001b[0m \u001b[0mdate_format\u001b[0m \u001b[1;33m=\u001b[0m \u001b[1;34m'dd-mmm-yy'\u001b[0m\u001b[1;33m,\u001b[0m \u001b[0mdatetime_format\u001b[0m\u001b[1;33m=\u001b[0m\u001b[1;34m'dd-mmm-yy'\u001b[0m\u001b[1;33m)\u001b[0m\u001b[1;33m\u001b[0m\u001b[1;33m\u001b[0m\u001b[0m\n\u001b[0;32m      2\u001b[0m \u001b[0mappended_data\u001b[0m\u001b[1;33m.\u001b[0m\u001b[0mto_excel\u001b[0m\u001b[1;33m(\u001b[0m\u001b[0mwriter2\u001b[0m\u001b[1;33m,\u001b[0m \u001b[0msheet_name\u001b[0m\u001b[1;33m=\u001b[0m\u001b[1;34m'Sheet1'\u001b[0m\u001b[1;33m)\u001b[0m\u001b[1;33m\u001b[0m\u001b[1;33m\u001b[0m\u001b[0m\n\u001b[1;32m----> 3\u001b[1;33m \u001b[0mwriter2\u001b[0m\u001b[1;33m.\u001b[0m\u001b[0msave\u001b[0m\u001b[1;33m(\u001b[0m\u001b[1;33m)\u001b[0m\u001b[1;33m\u001b[0m\u001b[1;33m\u001b[0m\u001b[0m\n\u001b[0m",
      "\u001b[1;32mD:\\anaconda\\lib\\site-packages\\pandas\\io\\excel.py\u001b[0m in \u001b[0;36msave\u001b[1;34m(self)\u001b[0m\n\u001b[0;32m   1950\u001b[0m         \"\"\"\n\u001b[0;32m   1951\u001b[0m \u001b[1;33m\u001b[0m\u001b[0m\n\u001b[1;32m-> 1952\u001b[1;33m         \u001b[1;32mreturn\u001b[0m \u001b[0mself\u001b[0m\u001b[1;33m.\u001b[0m\u001b[0mbook\u001b[0m\u001b[1;33m.\u001b[0m\u001b[0mclose\u001b[0m\u001b[1;33m(\u001b[0m\u001b[1;33m)\u001b[0m\u001b[1;33m\u001b[0m\u001b[1;33m\u001b[0m\u001b[0m\n\u001b[0m\u001b[0;32m   1953\u001b[0m \u001b[1;33m\u001b[0m\u001b[0m\n\u001b[0;32m   1954\u001b[0m     def write_cells(self, cells, sheet_name=None, startrow=0, startcol=0,\n",
      "\u001b[1;32mD:\\anaconda\\lib\\site-packages\\xlsxwriter\\workbook.py\u001b[0m in \u001b[0;36mclose\u001b[1;34m(self)\u001b[0m\n\u001b[0;32m    302\u001b[0m         \u001b[1;32mif\u001b[0m \u001b[1;32mnot\u001b[0m \u001b[0mself\u001b[0m\u001b[1;33m.\u001b[0m\u001b[0mfileclosed\u001b[0m\u001b[1;33m:\u001b[0m\u001b[1;33m\u001b[0m\u001b[1;33m\u001b[0m\u001b[0m\n\u001b[0;32m    303\u001b[0m             \u001b[0mself\u001b[0m\u001b[1;33m.\u001b[0m\u001b[0mfileclosed\u001b[0m \u001b[1;33m=\u001b[0m \u001b[1;36m1\u001b[0m\u001b[1;33m\u001b[0m\u001b[1;33m\u001b[0m\u001b[0m\n\u001b[1;32m--> 304\u001b[1;33m             \u001b[0mself\u001b[0m\u001b[1;33m.\u001b[0m\u001b[0m_store_workbook\u001b[0m\u001b[1;33m(\u001b[0m\u001b[1;33m)\u001b[0m\u001b[1;33m\u001b[0m\u001b[1;33m\u001b[0m\u001b[0m\n\u001b[0m\u001b[0;32m    305\u001b[0m \u001b[1;33m\u001b[0m\u001b[0m\n\u001b[0;32m    306\u001b[0m     \u001b[1;32mdef\u001b[0m \u001b[0mset_size\u001b[0m\u001b[1;33m(\u001b[0m\u001b[0mself\u001b[0m\u001b[1;33m,\u001b[0m \u001b[0mwidth\u001b[0m\u001b[1;33m,\u001b[0m \u001b[0mheight\u001b[0m\u001b[1;33m)\u001b[0m\u001b[1;33m:\u001b[0m\u001b[1;33m\u001b[0m\u001b[1;33m\u001b[0m\u001b[0m\n",
      "\u001b[1;32mD:\\anaconda\\lib\\site-packages\\xlsxwriter\\workbook.py\u001b[0m in \u001b[0;36m_store_workbook\u001b[1;34m(self)\u001b[0m\n\u001b[0;32m    650\u001b[0m \u001b[1;33m\u001b[0m\u001b[0m\n\u001b[0;32m    651\u001b[0m         xlsx_file = ZipFile(self.filename, \"w\", compression=ZIP_DEFLATED,\n\u001b[1;32m--> 652\u001b[1;33m                             allowZip64=self.allow_zip64)\n\u001b[0m\u001b[0;32m    653\u001b[0m \u001b[1;33m\u001b[0m\u001b[0m\n\u001b[0;32m    654\u001b[0m         \u001b[1;31m# Add XML sub-files to the Zip file with their Excel filename.\u001b[0m\u001b[1;33m\u001b[0m\u001b[1;33m\u001b[0m\u001b[1;33m\u001b[0m\u001b[0m\n",
      "\u001b[1;32mD:\\anaconda\\lib\\zipfile.py\u001b[0m in \u001b[0;36m__init__\u001b[1;34m(self, file, mode, compression, allowZip64, compresslevel)\u001b[0m\n\u001b[0;32m   1202\u001b[0m             \u001b[1;32mwhile\u001b[0m \u001b[1;32mTrue\u001b[0m\u001b[1;33m:\u001b[0m\u001b[1;33m\u001b[0m\u001b[1;33m\u001b[0m\u001b[0m\n\u001b[0;32m   1203\u001b[0m                 \u001b[1;32mtry\u001b[0m\u001b[1;33m:\u001b[0m\u001b[1;33m\u001b[0m\u001b[1;33m\u001b[0m\u001b[0m\n\u001b[1;32m-> 1204\u001b[1;33m                     \u001b[0mself\u001b[0m\u001b[1;33m.\u001b[0m\u001b[0mfp\u001b[0m \u001b[1;33m=\u001b[0m \u001b[0mio\u001b[0m\u001b[1;33m.\u001b[0m\u001b[0mopen\u001b[0m\u001b[1;33m(\u001b[0m\u001b[0mfile\u001b[0m\u001b[1;33m,\u001b[0m \u001b[0mfilemode\u001b[0m\u001b[1;33m)\u001b[0m\u001b[1;33m\u001b[0m\u001b[1;33m\u001b[0m\u001b[0m\n\u001b[0m\u001b[0;32m   1205\u001b[0m                 \u001b[1;32mexcept\u001b[0m \u001b[0mOSError\u001b[0m\u001b[1;33m:\u001b[0m\u001b[1;33m\u001b[0m\u001b[1;33m\u001b[0m\u001b[0m\n\u001b[0;32m   1206\u001b[0m                     \u001b[1;32mif\u001b[0m \u001b[0mfilemode\u001b[0m \u001b[1;32min\u001b[0m \u001b[0mmodeDict\u001b[0m\u001b[1;33m:\u001b[0m\u001b[1;33m\u001b[0m\u001b[1;33m\u001b[0m\u001b[0m\n",
      "\u001b[1;31mPermissionError\u001b[0m: [Errno 13] Permission denied: 'SmoothedOut.xlsx'"
     ]
    }
   ],
   "source": [
    "writer2 = pd.ExcelWriter('SmoothedOut.xlsx', date_format = 'dd-mmm-yy', datetime_format='dd-mmm-yy')\n",
    "appended_data.to_excel(writer2, sheet_name='Sheet1')\n",
    "writer2.save()"
   ]
  },
  {
   "cell_type": "code",
   "execution_count": 17,
   "metadata": {},
   "outputs": [
    {
     "name": "stdout",
     "output_type": "stream",
     "text": [
      "575.7\n",
      "60.4\n"
     ]
    }
   ],
   "source": [
    "values = nd['Gallons'].tolist()\n",
    "print (max(values))\n",
    "print (min(values))"
   ]
  },
  {
   "cell_type": "code",
   "execution_count": 21,
   "metadata": {},
   "outputs": [
    {
     "name": "stdin",
     "output_type": "stream",
     "text": [
      " 156.2\n"
     ]
    },
    {
     "name": "stdout",
     "output_type": "stream",
     "text": [
      "0.18591111973607602\n"
     ]
    }
   ],
   "source": [
    "ina = float(input())\n",
    "print (str((ina - min(values)) / (max(values) - min(values))))"
   ]
  },
  {
   "cell_type": "code",
   "execution_count": 40,
   "metadata": {},
   "outputs": [
    {
     "name": "stdout",
     "output_type": "stream",
     "text": [
      "124.61\n",
      "206.48\n",
      "-0.40351578015093376\n"
     ]
    }
   ],
   "source": [
    "standard = (round(np.std(values),2))\n",
    "meant = (round(np.mean(values),2))\n",
    "print (standard)\n",
    "print(meant)\n",
    "zNormal = (156.2-np.mean(values))/np.std(values)\n",
    "print (zNormal)"
   ]
  },
  {
   "cell_type": "code",
   "execution_count": null,
   "metadata": {},
   "outputs": [],
   "source": []
  }
 ],
 "metadata": {
  "kernelspec": {
   "display_name": "Python 3",
   "language": "python",
   "name": "python3"
  },
  "language_info": {
   "codemirror_mode": {
    "name": "ipython",
    "version": 3
   },
   "file_extension": ".py",
   "mimetype": "text/x-python",
   "name": "python",
   "nbconvert_exporter": "python",
   "pygments_lexer": "ipython3",
   "version": "3.7.3"
  }
 },
 "nbformat": 4,
 "nbformat_minor": 4
}
