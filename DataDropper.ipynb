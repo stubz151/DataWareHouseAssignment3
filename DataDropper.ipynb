{
 "cells": [
  {
   "cell_type": "code",
   "execution_count": 118,
   "metadata": {},
   "outputs": [],
   "source": [
    "import pandas as pd\n",
    "import numpy as np\n",
    "import matplotlib.pyplot as plt"
   ]
  },
  {
   "cell_type": "code",
   "execution_count": 2,
   "metadata": {},
   "outputs": [],
   "source": [
    "df = pd.read_excel(\"Chp3.xlsx\", sheet_name=\"Sheet1\")\n",
    "#loads data into panda data frame"
   ]
  },
  {
   "cell_type": "code",
   "execution_count": 3,
   "metadata": {},
   "outputs": [
    {
     "data": {
      "text/html": [
       "<div>\n",
       "<style scoped>\n",
       "    .dataframe tbody tr th:only-of-type {\n",
       "        vertical-align: middle;\n",
       "    }\n",
       "\n",
       "    .dataframe tbody tr th {\n",
       "        vertical-align: top;\n",
       "    }\n",
       "\n",
       "    .dataframe thead th {\n",
       "        text-align: right;\n",
       "    }\n",
       "</style>\n",
       "<table border=\"1\" class=\"dataframe\">\n",
       "  <thead>\n",
       "    <tr style=\"text-align: right;\">\n",
       "      <th></th>\n",
       "      <th>AircraftNo</th>\n",
       "      <th>ModelCode</th>\n",
       "      <th>CharterID</th>\n",
       "      <th>CharterDate</th>\n",
       "      <th>Pilot</th>\n",
       "      <th>Copilot</th>\n",
       "      <th>Destination</th>\n",
       "      <th>Distance</th>\n",
       "      <th>Hours</th>\n",
       "      <th>Delay</th>\n",
       "      <th>Gallons</th>\n",
       "      <th>Quarts</th>\n",
       "      <th>CustCode</th>\n",
       "      <th>Manufacturer</th>\n",
       "    </tr>\n",
       "  </thead>\n",
       "  <tbody>\n",
       "    <tr>\n",
       "      <th>0</th>\n",
       "      <td>2778V</td>\n",
       "      <td>PA31-350</td>\n",
       "      <td>10231</td>\n",
       "      <td>2018-04-04</td>\n",
       "      <td>109</td>\n",
       "      <td>NaN</td>\n",
       "      <td>ATL</td>\n",
       "      <td>1011</td>\n",
       "      <td>5.5</td>\n",
       "      <td>3.6</td>\n",
       "      <td>243.6</td>\n",
       "      <td>1</td>\n",
       "      <td>10011</td>\n",
       "      <td>Piper</td>\n",
       "    </tr>\n",
       "    <tr>\n",
       "      <th>1</th>\n",
       "      <td>2289L</td>\n",
       "      <td>C-90A</td>\n",
       "      <td>9685</td>\n",
       "      <td>2016-01-26</td>\n",
       "      <td>109</td>\n",
       "      <td>NaN</td>\n",
       "      <td>MOB</td>\n",
       "      <td>895</td>\n",
       "      <td>4.6</td>\n",
       "      <td>0.0</td>\n",
       "      <td>302.9</td>\n",
       "      <td>0</td>\n",
       "      <td>10011</td>\n",
       "      <td>Beechcraft</td>\n",
       "    </tr>\n",
       "    <tr>\n",
       "      <th>2</th>\n",
       "      <td>4278Y</td>\n",
       "      <td>PA31-350</td>\n",
       "      <td>9582</td>\n",
       "      <td>2015-08-21</td>\n",
       "      <td>109</td>\n",
       "      <td>NaN</td>\n",
       "      <td>MOB</td>\n",
       "      <td>842</td>\n",
       "      <td>4.4</td>\n",
       "      <td>6.1</td>\n",
       "      <td>187.9</td>\n",
       "      <td>1</td>\n",
       "      <td>10010</td>\n",
       "      <td>Piper</td>\n",
       "    </tr>\n",
       "    <tr>\n",
       "      <th>3</th>\n",
       "      <td>1484P</td>\n",
       "      <td>PA23-250</td>\n",
       "      <td>9856</td>\n",
       "      <td>2016-09-16</td>\n",
       "      <td>101</td>\n",
       "      <td>NaN</td>\n",
       "      <td>BNA</td>\n",
       "      <td>352</td>\n",
       "      <td>1.9</td>\n",
       "      <td>5.3</td>\n",
       "      <td>NaN</td>\n",
       "      <td>1</td>\n",
       "      <td>10012</td>\n",
       "      <td>Piper</td>\n",
       "    </tr>\n",
       "    <tr>\n",
       "      <th>4</th>\n",
       "      <td>2778V</td>\n",
       "      <td>PA31-350</td>\n",
       "      <td>9476</td>\n",
       "      <td>2015-03-18</td>\n",
       "      <td>106</td>\n",
       "      <td>101.0</td>\n",
       "      <td>TYS</td>\n",
       "      <td>668</td>\n",
       "      <td>4.2</td>\n",
       "      <td>3.8</td>\n",
       "      <td>153</td>\n",
       "      <td>0</td>\n",
       "      <td>10019</td>\n",
       "      <td>Piper</td>\n",
       "    </tr>\n",
       "  </tbody>\n",
       "</table>\n",
       "</div>"
      ],
      "text/plain": [
       "  AircraftNo ModelCode  CharterID CharterDate  Pilot  Copilot Destination  \\\n",
       "0      2778V  PA31-350      10231  2018-04-04    109      NaN         ATL   \n",
       "1      2289L     C-90A       9685  2016-01-26    109      NaN         MOB   \n",
       "2      4278Y  PA31-350       9582  2015-08-21    109      NaN         MOB   \n",
       "3      1484P  PA23-250       9856  2016-09-16    101      NaN         BNA   \n",
       "4      2778V  PA31-350       9476  2015-03-18    106    101.0         TYS   \n",
       "\n",
       "   Distance  Hours  Delay Gallons  Quarts  CustCode Manufacturer  \n",
       "0      1011    5.5    3.6   243.6       1     10011        Piper  \n",
       "1       895    4.6    0.0   302.9       0     10011   Beechcraft  \n",
       "2       842    4.4    6.1   187.9       1     10010        Piper  \n",
       "3       352    1.9    5.3     NaN       1     10012        Piper  \n",
       "4       668    4.2    3.8     153       0     10019        Piper  "
      ]
     },
     "execution_count": 3,
     "metadata": {},
     "output_type": "execute_result"
    }
   ],
   "source": [
    "df.head(5)\n",
    "#displays first x rows"
   ]
  },
  {
   "cell_type": "code",
   "execution_count": 4,
   "metadata": {},
   "outputs": [],
   "source": [
    "df['Gallons'] = pd.to_numeric(df['Gallons'], errors='coerce')\n",
    "#converts gallons to floats, any errors it sets to NaNs"
   ]
  },
  {
   "cell_type": "code",
   "execution_count": 5,
   "metadata": {},
   "outputs": [],
   "source": [
    "df.drop(df[(df[\"Gallons\"] < 0.00) | (df[\"Gallons\"]>99999)].index , inplace = True) \n",
    "df.drop_duplicates(keep=False, subset = ['CharterID'], inplace = True)" ,
    "#drops any gallons less than 0 or above 99999, inplace makes the changes to df\n",
    "nd = df.dropna(subset=['Gallons'])\n",
    "#drops all the rows with NaN values"
   ]
  },
  {
   "cell_type": "code",
   "execution_count": 6,
   "metadata": {},
   "outputs": [],
   "source": [
    "writer = pd.ExcelWriter('output.xlsx', date_format = 'dd-mmm-yy', datetime_format='dd-mmm-yy')\n",
    "nd.to_excel(writer, sheet_name='Sheet1')\n",
    "writer.save()\n",
    "#outputs to excel"
   ]
  },
  {
   "cell_type": "code",
   "execution_count": 7,
   "metadata": {},
   "outputs": [
    {
     "name": "stdout",
     "output_type": "stream",
     "text": [
      "Amount of unique aircraft numbers : 4\n",
      "Amount of unique Manufacturers : 2\n",
      "Amount of unique ModelCodes is : 3\n"
     ]
    }
   ],
   "source": [
    "colAircraft = [\"AircraftNo\" , nd['AircraftNo'].nunique()]\n",
    "print (\"Amount of unique aircraft numbers : \" + str(colAircraft[1]))\n",
    "colManufacturer = [\"Manufacturer\" , nd['Manufacturer'].nunique()]\n",
    "print (\"Amount of unique Manufacturers : \" + str(colManufacturer[1]))\n",
    "colModelCode = [\"ModelCode\" , nd['ModelCode'].nunique()]\n",
    "print (\"Amount of unique ModelCodes is : \" + str(colModelCode[1]))\n",
    "arr = [colAircraft, colManufacturer, colModelCode]\n",
    "sortedArr = sorted(arr,key=lambda x: x[1])\n",
    "#simply sorts the array based on the 2dimension, ie the unique count"
   ]
  },
  {
   "cell_type": "code",
   "execution_count": 8,
   "metadata": {},
   "outputs": [
    {
     "name": "stdout",
     "output_type": "stream",
     "text": [
      "Concept hierarchy is as follows : \n",
      "['Manufacturer', 2]\n",
      "------v-----\n",
      "['ModelCode', 3]\n",
      "------v-----\n",
      "['AircraftNo', 4]\n"
     ]
    }
   ],
   "source": [
    "print (\"Concept hierarchy is as follows : \")\n",
    "print (sortedArr[0])\n",
    "print(\"------v-----\")\n",
    "print(sortedArr[1])\n",
    "print(\"------v-----\")\n",
    "print(sortedArr[2])"
   ]
  },
  {
   "cell_type": "code",
   "execution_count": 122,
   "metadata": {},
   "outputs": [
    {
     "name": "stdout",
     "output_type": "stream",
     "text": [
      "575.7\n",
      "19.19\n"
     ]
    }
   ],
   "source": [
    "print (nd['Gallons'].max())\n",
    "print (nd['Gallons'].max()/30)      "
   ]
  },
  {
   "cell_type": "code",
   "execution_count": 178,
   "metadata": {},
   "outputs": [
    {
     "name": "stdout",
     "output_type": "stream",
     "text": [
      "0 30 60 90 120 150 180 210 240 270 300 330 360 390 420 450 480 510 540 570 600\n"
     ]
    },
    {
     "data": {
      "text/plain": [
       "<matplotlib.axes._subplots.AxesSubplot at 0x2af37534c18>"
      ]
     },
     "execution_count": 178,
     "metadata": {},
     "output_type": "execute_result"
    },
    {
     "data": {
      "image/png": "[encoded data removed]",
      "text/plain": [
       "<Figure size 432x288 with 1 Axes>"
      ]
     },
     "metadata": {
      "needs_background": "light"
     },
     "output_type": "display_data"
    }
   ],
   "source": [
    "bin = []\n",
    "for x in range (0, int((nd['Gallons'].max())/30)+2):\n",
    "    bin.append(x*30)\n",
    "print (*bin)\n",
    "s = nd.groupby(pd.cut(nd['Gallons'], bins=bin)).size()\n",
    "s.plot.bar()"
   ]
  },
  {
   "cell_type": "code",
   "execution_count": null,
   "metadata": {},
   "outputs": [],
   "source": []
  },
  {
   "cell_type": "code",
   "execution_count": null,
   "metadata": {},
   "outputs": [],
   "source": []
  }
 ],
 "metadata": {
  "kernelspec": {
   "display_name": "Python 3",
   "language": "python",
   "name": "python3"
  },
  "language_info": {
   "codemirror_mode": {
    "name": "ipython",
    "version": 3
   },
   "file_extension": ".py",
   "mimetype": "text/x-python",
   "name": "python",
   "nbconvert_exporter": "python",
   "pygments_lexer": "ipython3",
   "version": "3.7.3"
  }
 },
 "nbformat": 4,
 "nbformat_minor": 4
}
